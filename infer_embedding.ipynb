{
 "cells": [
  {
   "cell_type": "code",
   "execution_count": 1,
   "metadata": {},
   "outputs": [],
   "source": [
    "import os\n",
    "import pickle\n",
    "\n",
    "import gensim\n",
    "import numpy as np\n",
    "import pandas as pd\n",
    "from gensim.models.doc2vec import Doc2Vec\n",
    "\n",
    "from embeddings import embedding_tools"
   ]
  },
  {
   "cell_type": "code",
   "execution_count": 2,
   "metadata": {},
   "outputs": [],
   "source": [
    "def infer_emb(data, model, k, dest_file, overlap=False, method=None):\n",
    "    df = pd.read_csv(data)\n",
    "    seqs = embedding_tools.get_seqs(df)\n",
    "    \n",
    "    if method is not None:\n",
    "        seqs = embedding_tools.randomize_seqs(seqs, method=method)\n",
    "    \n",
    "    embeds = embedding_tools.get_embeddings_new(model, seqs, k=k,\n",
    "                                                overlap=overlap)\n",
    "    \n",
    "    embeds = pd.DataFrame(embeds, index=df.index)\n",
    "    terms = list(range(embeds.shape[1]))\n",
    "    name = model.split('/')[-1]\n",
    "    \n",
    "    with open(dest_file + 'X_' + name, 'wb') as f:\n",
    "        pickle.dump((embeds, terms), f)"
   ]
  },
  {
   "cell_type": "code",
   "execution_count": 3,
   "metadata": {},
   "outputs": [
    {
     "data": {
      "text/plain": [
       "['small_3_5.pkl']"
      ]
     },
     "execution_count": 3,
     "metadata": {},
     "output_type": "execute_result"
    }
   ],
   "source": [
    "models = os.listdir('./outputs/docvec_models/')\n",
    "models = [m for m in models if m[-3:] == 'pkl']\n",
    "models"
   ]
  },
  {
   "cell_type": "code",
   "execution_count": 6,
   "metadata": {},
   "outputs": [
    {
     "name": "stdout",
     "output_type": "stream",
     "text": [
      "Model small_3_5.pkl for dataset test:\n",
      "Inferring...\n",
      "Done\n"
     ]
    }
   ],
   "source": [
    "datasets = ['test']\n",
    "\n",
    "for s in datasets:\n",
    "    dest = './outputs/embeddings/'\n",
    "    Xs = os.listdir('/'.join(s.split('/')[:-1]) + dest)\n",
    "    for model in models:\n",
    "        print('Model ' + model + ' for dataset ' + s + ':')\n",
    "        k = int(model[-7])\n",
    "        print('Inferring...')\n",
    "        infer_emb('./inputs/' + s + '.txt', './outputs/docvec_models/' + model, k, dest)\n",
    "        print('Done')"
   ]
  }
 ],
 "metadata": {
  "kernelspec": {
   "display_name": "Python 3 (ipykernel)",
   "language": "python",
   "name": "python3"
  },
  "language_info": {
   "codemirror_mode": {
    "name": "ipython",
    "version": 3
   },
   "file_extension": ".py",
   "mimetype": "text/x-python",
   "name": "python",
   "nbconvert_exporter": "python",
   "pygments_lexer": "ipython3",
   "version": "3.9.7"
  }
 },
 "nbformat": 4,
 "nbformat_minor": 4
}
