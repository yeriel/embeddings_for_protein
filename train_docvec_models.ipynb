{
 "cells": [
  {
   "cell_type": "code",
   "execution_count": 1,
   "metadata": {},
   "outputs": [],
   "source": [
    "import multiprocessing\n",
    "import os\n",
    "import pickle\n",
    "import random\n",
    "\n",
    "import gensim\n",
    "import numpy as np\n",
    "import pandas as pd\n",
    "from gensim.models.doc2vec import Doc2Vec, TaggedDocument\n",
    "\n",
    "from embeddings import embedding_tools"
   ]
  },
  {
   "cell_type": "code",
   "execution_count": 2,
   "metadata": {},
   "outputs": [],
   "source": [
    "def train(X, k, window):\n",
    "    name_list = [X, str(k), str(window)]\n",
    "    if os.path.isfile('./outputs/docvec_models/' + '_'.join(name_list) + '.pkl'):\n",
    "        return\n",
    "    \n",
    "    print('X\\t\\tk\\twindow')\n",
    "    print(name_list[0] + '\\t\\t' + '\\t'.join(name_list[1:]))\n",
    "    \n",
    "    kmer_hypers = {'k':k, \n",
    "                   'overlap':False,\n",
    "                   'merge':False}\n",
    "    model_hypers = {'vector_size': 64,\n",
    "                    'min_count': 0,\n",
    "                    'window':window,\n",
    "                    'workers': 4}\n",
    "    \n",
    "    documents = embedding_tools.Corpus(sequence_dict[X], kmer_hypers)\n",
    "    model = Doc2Vec(**model_hypers)\n",
    "    model.build_vocab(documents)\n",
    "    model.train(documents,epochs=10,total_examples=model.corpus_count)\n",
    "    model.save('./outputs/docvec_models/' + '_'.join(name_list) + '.pkl')\n",
    "    \n",
    "    print('Save model ' + ' '.join(name_list))"
   ]
  },
  {
   "cell_type": "code",
   "execution_count": 5,
   "metadata": {},
   "outputs": [
    {
     "data": {
      "text/html": [
       "<div>\n",
       "<style scoped>\n",
       "    .dataframe tbody tr th:only-of-type {\n",
       "        vertical-align: middle;\n",
       "    }\n",
       "\n",
       "    .dataframe tbody tr th {\n",
       "        vertical-align: top;\n",
       "    }\n",
       "\n",
       "    .dataframe thead th {\n",
       "        text-align: right;\n",
       "    }\n",
       "</style>\n",
       "<table border=\"1\" class=\"dataframe\">\n",
       "  <thead>\n",
       "    <tr style=\"text-align: right;\">\n",
       "      <th></th>\n",
       "      <th>sequence</th>\n",
       "    </tr>\n",
       "  </thead>\n",
       "  <tbody>\n",
       "    <tr>\n",
       "      <th>0</th>\n",
       "      <td>MKKLYLKTHGCQMNEYDSAKMADVLKFSHGLELTEDPAVADVFLLN...</td>\n",
       "    </tr>\n",
       "    <tr>\n",
       "      <th>1</th>\n",
       "      <td>MGWAGDAGCTPRPPIRPRPASERRVIIVLFLGLLLDLLAFTLLLPL...</td>\n",
       "    </tr>\n",
       "    <tr>\n",
       "      <th>2</th>\n",
       "      <td>MSNTPIELKGSSFTLSVVHLHEAEPEVIRQALEDKIAQAPAFLKHA...</td>\n",
       "    </tr>\n",
       "    <tr>\n",
       "      <th>3</th>\n",
       "      <td>MVKARKTFKIITYGCQMNQRDSEMMADLLQDAGYEPVAREEEAGVI...</td>\n",
       "    </tr>\n",
       "    <tr>\n",
       "      <th>4</th>\n",
       "      <td>MTREGQFREELGYDRMPTLERGRQDAGRQDPGSYTPDSKPKDLQLS...</td>\n",
       "    </tr>\n",
       "    <tr>\n",
       "      <th>...</th>\n",
       "      <td>...</td>\n",
       "    </tr>\n",
       "    <tr>\n",
       "      <th>565248</th>\n",
       "      <td>MSIITDVYAREVLDSRGNPTLEVEVYTESGAFGRGMVPSGASTGEH...</td>\n",
       "    </tr>\n",
       "    <tr>\n",
       "      <th>565249</th>\n",
       "      <td>MSAVVKSIKAREILDSRGNPTVEADVVLSDGSFGRAAVPSGASTGS...</td>\n",
       "    </tr>\n",
       "    <tr>\n",
       "      <th>565250</th>\n",
       "      <td>MAVTAALVKELRERTGAGMMECKKALVETNGDVELAIENMRKSGAA...</td>\n",
       "    </tr>\n",
       "    <tr>\n",
       "      <th>565251</th>\n",
       "      <td>MSSIIDVYAREVLDSRGNPTVEVEVYTEAGAMGSAIVPSGASTGVH...</td>\n",
       "    </tr>\n",
       "    <tr>\n",
       "      <th>565252</th>\n",
       "      <td>MSKEKFERKKPHINVGTIGHVDHGKTTLTAALTKVLAEAHGGDARA...</td>\n",
       "    </tr>\n",
       "  </tbody>\n",
       "</table>\n",
       "<p>565253 rows × 1 columns</p>\n",
       "</div>"
      ],
      "text/plain": [
       "                                                 sequence\n",
       "0       MKKLYLKTHGCQMNEYDSAKMADVLKFSHGLELTEDPAVADVFLLN...\n",
       "1       MGWAGDAGCTPRPPIRPRPASERRVIIVLFLGLLLDLLAFTLLLPL...\n",
       "2       MSNTPIELKGSSFTLSVVHLHEAEPEVIRQALEDKIAQAPAFLKHA...\n",
       "3       MVKARKTFKIITYGCQMNQRDSEMMADLLQDAGYEPVAREEEAGVI...\n",
       "4       MTREGQFREELGYDRMPTLERGRQDAGRQDPGSYTPDSKPKDLQLS...\n",
       "...                                                   ...\n",
       "565248  MSIITDVYAREVLDSRGNPTLEVEVYTESGAFGRGMVPSGASTGEH...\n",
       "565249  MSAVVKSIKAREILDSRGNPTVEADVVLSDGSFGRAAVPSGASTGS...\n",
       "565250  MAVTAALVKELRERTGAGMMECKKALVETNGDVELAIENMRKSGAA...\n",
       "565251  MSSIIDVYAREVLDSRGNPTVEVEVYTEAGAMGSAIVPSGASTGVH...\n",
       "565252  MSKEKFERKKPHINVGTIGHVDHGKTTLTAALTKVLAEAHGGDARA...\n",
       "\n",
       "[565253 rows x 1 columns]"
      ]
     },
     "execution_count": 5,
     "metadata": {},
     "output_type": "execute_result"
    }
   ],
   "source": [
    "sequence_dict = {}\n",
    "sequence_dict['small'] = pd.read_csv('./inputs/small_uniprot.txt')\n",
    "sequence_dict['Swiss-Prot'] = pd.read_csv('./inputs/uniprot-reviewed-seq-2021.txt')\n",
    "sequence_dict['Swiss-Prot']\n",
    "#sequence_dict['small']"
   ]
  },
  {
   "cell_type": "code",
   "execution_count": 6,
   "metadata": {},
   "outputs": [],
   "source": [
    "train('small',3,5)"
   ]
  },
  {
   "cell_type": "code",
   "execution_count": 4,
   "metadata": {},
   "outputs": [],
   "source": [
    "#for X in sequence_dict.keys():\n",
    "    #for k in range(3, 6):\n",
    "        #for window in range(5, 8):\n",
    "            #print(X,k,window)"
   ]
  }
 ],
 "metadata": {
  "kernelspec": {
   "display_name": "Python 3 (ipykernel)",
   "language": "python",
   "name": "python3"
  },
  "language_info": {
   "codemirror_mode": {
    "name": "ipython",
    "version": 3
   },
   "file_extension": ".py",
   "mimetype": "text/x-python",
   "name": "python",
   "nbconvert_exporter": "python",
   "pygments_lexer": "ipython3",
   "version": "3.9.7"
  }
 },
 "nbformat": 4,
 "nbformat_minor": 4
}
